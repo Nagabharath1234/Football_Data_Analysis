{
 "cells": [
  {
   "cell_type": "code",
   "execution_count": 1,
   "id": "b3c74d5e",
   "metadata": {},
   "outputs": [],
   "source": [
    "import matplotlib.pyplot as plt\n",
    "import seaborn as sns\n",
    "import matplotlib as mat\n",
    "import pandas as pd\n",
    "import numpy as np\n",
    "from tabulate import tabulate"
   ]
  },
  {
   "cell_type": "code",
   "execution_count": 2,
   "id": "e93b1d77",
   "metadata": {},
   "outputs": [],
   "source": [
    "df1 = pd.read_excel(\"appearances.xlsx\")\n",
    "df2 = pd.read_excel(\"game_events.xlsx\")\n",
    "df3 = pd.read_excel(\"game_lineups.xlsx\")\n",
    "df4 = pd.read_excel(\"games.xlsx\")\n",
    "df5 = pd.read_excel(\"players.xlsx\")"
   ]
  },
  {
   "cell_type": "markdown",
   "id": "eb8dc85a",
   "metadata": {},
   "source": [
    "# Merging the data"
   ]
  },
  {
   "cell_type": "code",
   "execution_count": 3,
   "id": "976cf0e6",
   "metadata": {},
   "outputs": [],
   "source": [
    "data =pd.merge(df1,df5, on ='player_id',how = 'left')\n"
   ]
  },
  {
   "cell_type": "code",
   "execution_count": 4,
   "id": "28587a6e",
   "metadata": {},
   "outputs": [],
   "source": [
    "data1 =pd.merge(data,df2, on ='game_id',how = 'left')"
   ]
  },
  {
   "cell_type": "code",
   "execution_count": 5,
   "id": "bcf454a2",
   "metadata": {},
   "outputs": [],
   "source": [
    "data2 =pd.merge(data1,df3, on ='game_id',how = 'left')"
   ]
  },
  {
   "cell_type": "code",
   "execution_count": 6,
   "id": "1eeace61",
   "metadata": {},
   "outputs": [],
   "source": [
    "data_final =pd.merge(data2,df4, on ='game_id',how = 'left')"
   ]
  },
  {
   "cell_type": "code",
   "execution_count": 7,
   "id": "2dcd9c3d",
   "metadata": {},
   "outputs": [
    {
     "data": {
      "text/html": [
       "<div>\n",
       "<style scoped>\n",
       "    .dataframe tbody tr th:only-of-type {\n",
       "        vertical-align: middle;\n",
       "    }\n",
       "\n",
       "    .dataframe tbody tr th {\n",
       "        vertical-align: top;\n",
       "    }\n",
       "\n",
       "    .dataframe thead th {\n",
       "        text-align: right;\n",
       "    }\n",
       "</style>\n",
       "<table border=\"1\" class=\"dataframe\">\n",
       "  <thead>\n",
       "    <tr style=\"text-align: right;\">\n",
       "      <th></th>\n",
       "      <th>appearance_id</th>\n",
       "      <th>game_id</th>\n",
       "      <th>player_id_x</th>\n",
       "      <th>date_x</th>\n",
       "      <th>player_name_x</th>\n",
       "      <th>competition_id_x</th>\n",
       "      <th>yellow_cards</th>\n",
       "      <th>red_cards</th>\n",
       "      <th>goals</th>\n",
       "      <th>assists</th>\n",
       "      <th>...</th>\n",
       "      <th>away_club_manager_name</th>\n",
       "      <th>stadium</th>\n",
       "      <th>attendance</th>\n",
       "      <th>referee</th>\n",
       "      <th>home_club_formation</th>\n",
       "      <th>away_club_formation</th>\n",
       "      <th>home_club_name</th>\n",
       "      <th>away_club_name</th>\n",
       "      <th>aggregate</th>\n",
       "      <th>competition_type</th>\n",
       "    </tr>\n",
       "  </thead>\n",
       "  <tbody>\n",
       "    <tr>\n",
       "      <th>0</th>\n",
       "      <td>2224728_119169</td>\n",
       "      <td>2224728</td>\n",
       "      <td>119169</td>\n",
       "      <td>2012-07-13</td>\n",
       "      <td>Aron Johannsson</td>\n",
       "      <td>DK1</td>\n",
       "      <td>0</td>\n",
       "      <td>0</td>\n",
       "      <td>0</td>\n",
       "      <td>0</td>\n",
       "      <td>...</td>\n",
       "      <td>Kent Nielsen</td>\n",
       "      <td>Ceres Park</td>\n",
       "      <td>9728.0</td>\n",
       "      <td>Michael Svendsen</td>\n",
       "      <td>NaN</td>\n",
       "      <td>NaN</td>\n",
       "      <td>Aarhus Gymnastik Forening</td>\n",
       "      <td>Aalborg BK</td>\n",
       "      <td>01:01:00</td>\n",
       "      <td>domestic_league</td>\n",
       "    </tr>\n",
       "    <tr>\n",
       "      <th>1</th>\n",
       "      <td>2224732_161244</td>\n",
       "      <td>2224732</td>\n",
       "      <td>161244</td>\n",
       "      <td>2012-07-14</td>\n",
       "      <td>Conor O'Brien</td>\n",
       "      <td>DK1</td>\n",
       "      <td>0</td>\n",
       "      <td>0</td>\n",
       "      <td>1</td>\n",
       "      <td>0</td>\n",
       "      <td>...</td>\n",
       "      <td>Colin Todd</td>\n",
       "      <td>Sydbank Park</td>\n",
       "      <td>2995.0</td>\n",
       "      <td>Claus Bo Larsen</td>\n",
       "      <td>NaN</td>\n",
       "      <td>NaN</td>\n",
       "      <td>Sonderjyske Fc</td>\n",
       "      <td>Randers Fodbold Club</td>\n",
       "      <td>06:01:00</td>\n",
       "      <td>domestic_league</td>\n",
       "    </tr>\n",
       "    <tr>\n",
       "      <th>2</th>\n",
       "      <td>2224729_39467</td>\n",
       "      <td>2224729</td>\n",
       "      <td>39467</td>\n",
       "      <td>2012-07-15</td>\n",
       "      <td>Clarence Goodson</td>\n",
       "      <td>DK1</td>\n",
       "      <td>0</td>\n",
       "      <td>0</td>\n",
       "      <td>0</td>\n",
       "      <td>0</td>\n",
       "      <td>...</td>\n",
       "      <td>Troels Bech</td>\n",
       "      <td>Brondby Stadium</td>\n",
       "      <td>10806.0</td>\n",
       "      <td>Lars Christoffersen</td>\n",
       "      <td>NaN</td>\n",
       "      <td>NaN</td>\n",
       "      <td>Brondby IF</td>\n",
       "      <td>Odense Boldklub</td>\n",
       "      <td>00:01:00</td>\n",
       "      <td>domestic_league</td>\n",
       "    </tr>\n",
       "    <tr>\n",
       "      <th>3</th>\n",
       "      <td>2232104_119169</td>\n",
       "      <td>2232104</td>\n",
       "      <td>119169</td>\n",
       "      <td>2012-07-19</td>\n",
       "      <td>Aron Johannsson</td>\n",
       "      <td>ELQ</td>\n",
       "      <td>0</td>\n",
       "      <td>0</td>\n",
       "      <td>0</td>\n",
       "      <td>0</td>\n",
       "      <td>...</td>\n",
       "      <td>Temur Shalamberidze</td>\n",
       "      <td>Ceres Park</td>\n",
       "      <td>9000.0</td>\n",
       "      <td>Boako Jovanetic</td>\n",
       "      <td>NaN</td>\n",
       "      <td>NaN</td>\n",
       "      <td>Aarhus Gymnastik Forening</td>\n",
       "      <td>NaN</td>\n",
       "      <td>01:02:00</td>\n",
       "      <td>international_cup</td>\n",
       "    </tr>\n",
       "    <tr>\n",
       "      <th>4</th>\n",
       "      <td>2219794_39475</td>\n",
       "      <td>2219794</td>\n",
       "      <td>39475</td>\n",
       "      <td>2012-07-22</td>\n",
       "      <td>Sacha Kljestan</td>\n",
       "      <td>BESC</td>\n",
       "      <td>0</td>\n",
       "      <td>0</td>\n",
       "      <td>0</td>\n",
       "      <td>0</td>\n",
       "      <td>...</td>\n",
       "      <td>Peter Maes</td>\n",
       "      <td>Constant Vanden Stock Stadion</td>\n",
       "      <td>14485.0</td>\n",
       "      <td>Laurent Colemonts</td>\n",
       "      <td>NaN</td>\n",
       "      <td>NaN</td>\n",
       "      <td>Royal Sporting Club Anderlecht</td>\n",
       "      <td>KSC Lokeren (- 2020)</td>\n",
       "      <td>03:02:00</td>\n",
       "      <td>other</td>\n",
       "    </tr>\n",
       "    <tr>\n",
       "      <th>...</th>\n",
       "      <td>...</td>\n",
       "      <td>...</td>\n",
       "      <td>...</td>\n",
       "      <td>...</td>\n",
       "      <td>...</td>\n",
       "      <td>...</td>\n",
       "      <td>...</td>\n",
       "      <td>...</td>\n",
       "      <td>...</td>\n",
       "      <td>...</td>\n",
       "      <td>...</td>\n",
       "      <td>...</td>\n",
       "      <td>...</td>\n",
       "      <td>...</td>\n",
       "      <td>...</td>\n",
       "      <td>...</td>\n",
       "      <td>...</td>\n",
       "      <td>...</td>\n",
       "      <td>...</td>\n",
       "      <td>...</td>\n",
       "      <td>...</td>\n",
       "    </tr>\n",
       "    <tr>\n",
       "      <th>3804</th>\n",
       "      <td>3415291_537467</td>\n",
       "      <td>3415291</td>\n",
       "      <td>537467</td>\n",
       "      <td>2020-09-26</td>\n",
       "      <td>Joseph Efford</td>\n",
       "      <td>BE1</td>\n",
       "      <td>0</td>\n",
       "      <td>0</td>\n",
       "      <td>1</td>\n",
       "      <td>0</td>\n",
       "      <td>...</td>\n",
       "      <td>Nicky Hayen</td>\n",
       "      <td>Olympisch Stadion</td>\n",
       "      <td>3200.0</td>\n",
       "      <td>Wesli De Cremer</td>\n",
       "      <td>NaN</td>\n",
       "      <td>NaN</td>\n",
       "      <td>Beerschot V.A.</td>\n",
       "      <td>SK Beveren</td>\n",
       "      <td>03:02:00</td>\n",
       "      <td>domestic_league</td>\n",
       "    </tr>\n",
       "    <tr>\n",
       "      <th>3805</th>\n",
       "      <td>3415296_367423</td>\n",
       "      <td>3415296</td>\n",
       "      <td>367423</td>\n",
       "      <td>2020-09-26</td>\n",
       "      <td>Chris Durkin</td>\n",
       "      <td>BE1</td>\n",
       "      <td>1</td>\n",
       "      <td>0</td>\n",
       "      <td>0</td>\n",
       "      <td>0</td>\n",
       "      <td>...</td>\n",
       "      <td>Kevin Muscat</td>\n",
       "      <td>AFAS Stadion</td>\n",
       "      <td>5185.0</td>\n",
       "      <td>Nathan Verboomen</td>\n",
       "      <td>NaN</td>\n",
       "      <td>NaN</td>\n",
       "      <td>Yellow-Red Koninklijke Voetbalclub Mechelen</td>\n",
       "      <td>Koninklijke Sint-Truidense Voetbalvereniging</td>\n",
       "      <td>02:00:00</td>\n",
       "      <td>domestic_league</td>\n",
       "    </tr>\n",
       "    <tr>\n",
       "      <th>3806</th>\n",
       "      <td>3431983_478940</td>\n",
       "      <td>3431983</td>\n",
       "      <td>478940</td>\n",
       "      <td>2020-09-26</td>\n",
       "      <td>Reggie Cannon</td>\n",
       "      <td>PO1</td>\n",
       "      <td>0</td>\n",
       "      <td>0</td>\n",
       "      <td>0</td>\n",
       "      <td>0</td>\n",
       "      <td>...</td>\n",
       "      <td>Sergio Conceicao</td>\n",
       "      <td>Estádio do Bessa</td>\n",
       "      <td>NaN</td>\n",
       "      <td>Luís Godinho</td>\n",
       "      <td>NaN</td>\n",
       "      <td>NaN</td>\n",
       "      <td>Boavista Futebol Clube</td>\n",
       "      <td>Futebol Clube do Porto</td>\n",
       "      <td>00:05:00</td>\n",
       "      <td>domestic_league</td>\n",
       "    </tr>\n",
       "    <tr>\n",
       "      <th>3807</th>\n",
       "      <td>3450575_361104</td>\n",
       "      <td>3450575</td>\n",
       "      <td>361104</td>\n",
       "      <td>2020-09-26</td>\n",
       "      <td>Sergino Dest</td>\n",
       "      <td>NL1</td>\n",
       "      <td>0</td>\n",
       "      <td>0</td>\n",
       "      <td>0</td>\n",
       "      <td>0</td>\n",
       "      <td>...</td>\n",
       "      <td>Thomas Letsch</td>\n",
       "      <td>Johan Cruijff ArenA</td>\n",
       "      <td>15000.0</td>\n",
       "      <td>Pol van Boekel</td>\n",
       "      <td>NaN</td>\n",
       "      <td>NaN</td>\n",
       "      <td>AFC Ajax Amsterdam</td>\n",
       "      <td>Stichting Betaald Voetbal Vitesse Arnhem</td>\n",
       "      <td>02:01:00</td>\n",
       "      <td>domestic_league</td>\n",
       "    </tr>\n",
       "    <tr>\n",
       "      <th>3808</th>\n",
       "      <td>3412904_124732</td>\n",
       "      <td>3412904</td>\n",
       "      <td>124732</td>\n",
       "      <td>2020-09-27</td>\n",
       "      <td>John Anthony Brooks</td>\n",
       "      <td>L1</td>\n",
       "      <td>1</td>\n",
       "      <td>0</td>\n",
       "      <td>0</td>\n",
       "      <td>0</td>\n",
       "      <td>...</td>\n",
       "      <td>Oliver Glasner</td>\n",
       "      <td>Dreisamstadion</td>\n",
       "      <td>3200.0</td>\n",
       "      <td>Soren Storks</td>\n",
       "      <td>NaN</td>\n",
       "      <td>NaN</td>\n",
       "      <td>Sport-Club Freiburg</td>\n",
       "      <td>Verein Fur leibesubungen Wolfsburg</td>\n",
       "      <td>01:01:00</td>\n",
       "      <td>domestic_league</td>\n",
       "    </tr>\n",
       "  </tbody>\n",
       "</table>\n",
       "<p>3809 rows × 59 columns</p>\n",
       "</div>"
      ],
      "text/plain": [
       "       appearance_id  game_id  player_id_x     date_x        player_name_x  \\\n",
       "0     2224728_119169  2224728       119169 2012-07-13      Aron Johannsson   \n",
       "1     2224732_161244  2224732       161244 2012-07-14        Conor O'Brien   \n",
       "2      2224729_39467  2224729        39467 2012-07-15     Clarence Goodson   \n",
       "3     2232104_119169  2232104       119169 2012-07-19      Aron Johannsson   \n",
       "4      2219794_39475  2219794        39475 2012-07-22       Sacha Kljestan   \n",
       "...              ...      ...          ...        ...                  ...   \n",
       "3804  3415291_537467  3415291       537467 2020-09-26        Joseph Efford   \n",
       "3805  3415296_367423  3415296       367423 2020-09-26         Chris Durkin   \n",
       "3806  3431983_478940  3431983       478940 2020-09-26        Reggie Cannon   \n",
       "3807  3450575_361104  3450575       361104 2020-09-26         Sergino Dest   \n",
       "3808  3412904_124732  3412904       124732 2020-09-27  John Anthony Brooks   \n",
       "\n",
       "     competition_id_x  yellow_cards  red_cards  goals  assists  ...  \\\n",
       "0                 DK1             0          0      0        0  ...   \n",
       "1                 DK1             0          0      1        0  ...   \n",
       "2                 DK1             0          0      0        0  ...   \n",
       "3                 ELQ             0          0      0        0  ...   \n",
       "4                BESC             0          0      0        0  ...   \n",
       "...               ...           ...        ...    ...      ...  ...   \n",
       "3804              BE1             0          0      1        0  ...   \n",
       "3805              BE1             1          0      0        0  ...   \n",
       "3806              PO1             0          0      0        0  ...   \n",
       "3807              NL1             0          0      0        0  ...   \n",
       "3808               L1             1          0      0        0  ...   \n",
       "\n",
       "      away_club_manager_name                        stadium  attendance  \\\n",
       "0               Kent Nielsen                     Ceres Park      9728.0   \n",
       "1                 Colin Todd                   Sydbank Park      2995.0   \n",
       "2                Troels Bech                Brondby Stadium     10806.0   \n",
       "3        Temur Shalamberidze                     Ceres Park      9000.0   \n",
       "4                 Peter Maes  Constant Vanden Stock Stadion     14485.0   \n",
       "...                      ...                            ...         ...   \n",
       "3804             Nicky Hayen              Olympisch Stadion      3200.0   \n",
       "3805            Kevin Muscat                   AFAS Stadion      5185.0   \n",
       "3806        Sergio Conceicao               Estádio do Bessa         NaN   \n",
       "3807           Thomas Letsch            Johan Cruijff ArenA     15000.0   \n",
       "3808          Oliver Glasner                 Dreisamstadion      3200.0   \n",
       "\n",
       "                  referee home_club_formation away_club_formation  \\\n",
       "0        Michael Svendsen                 NaN                 NaN   \n",
       "1         Claus Bo Larsen                 NaN                 NaN   \n",
       "2     Lars Christoffersen                 NaN                 NaN   \n",
       "3         Boako Jovanetic                 NaN                 NaN   \n",
       "4       Laurent Colemonts                 NaN                 NaN   \n",
       "...                   ...                 ...                 ...   \n",
       "3804      Wesli De Cremer                 NaN                 NaN   \n",
       "3805     Nathan Verboomen                 NaN                 NaN   \n",
       "3806         Luís Godinho                 NaN                 NaN   \n",
       "3807       Pol van Boekel                 NaN                 NaN   \n",
       "3808         Soren Storks                 NaN                 NaN   \n",
       "\n",
       "                                   home_club_name  \\\n",
       "0                       Aarhus Gymnastik Forening   \n",
       "1                                  Sonderjyske Fc   \n",
       "2                                      Brondby IF   \n",
       "3                       Aarhus Gymnastik Forening   \n",
       "4                  Royal Sporting Club Anderlecht   \n",
       "...                                           ...   \n",
       "3804                               Beerschot V.A.   \n",
       "3805  Yellow-Red Koninklijke Voetbalclub Mechelen   \n",
       "3806                       Boavista Futebol Clube   \n",
       "3807                           AFC Ajax Amsterdam   \n",
       "3808                          Sport-Club Freiburg   \n",
       "\n",
       "                                    away_club_name aggregate  \\\n",
       "0                                       Aalborg BK  01:01:00   \n",
       "1                             Randers Fodbold Club  06:01:00   \n",
       "2                                  Odense Boldklub  00:01:00   \n",
       "3                                              NaN  01:02:00   \n",
       "4                             KSC Lokeren (- 2020)  03:02:00   \n",
       "...                                            ...       ...   \n",
       "3804                                    SK Beveren  03:02:00   \n",
       "3805  Koninklijke Sint-Truidense Voetbalvereniging  02:00:00   \n",
       "3806                        Futebol Clube do Porto  00:05:00   \n",
       "3807      Stichting Betaald Voetbal Vitesse Arnhem  02:01:00   \n",
       "3808            Verein Fur leibesubungen Wolfsburg  01:01:00   \n",
       "\n",
       "       competition_type  \n",
       "0       domestic_league  \n",
       "1       domestic_league  \n",
       "2       domestic_league  \n",
       "3     international_cup  \n",
       "4                 other  \n",
       "...                 ...  \n",
       "3804    domestic_league  \n",
       "3805    domestic_league  \n",
       "3806    domestic_league  \n",
       "3807    domestic_league  \n",
       "3808    domestic_league  \n",
       "\n",
       "[3809 rows x 59 columns]"
      ]
     },
     "execution_count": 7,
     "metadata": {},
     "output_type": "execute_result"
    }
   ],
   "source": [
    "data_final"
   ]
  },
  {
   "cell_type": "markdown",
   "id": "68e50b7b",
   "metadata": {},
   "source": [
    "# cleaning the data"
   ]
  },
  {
   "cell_type": "code",
   "execution_count": 8,
   "id": "90609b33",
   "metadata": {
    "scrolled": false
   },
   "outputs": [
    {
     "data": {
      "text/plain": [
       "appearance_id                     0\n",
       "game_id                           0\n",
       "player_id_x                       0\n",
       "date_x                            0\n",
       "player_name_x                     0\n",
       "competition_id_x                  0\n",
       "yellow_cards                      0\n",
       "red_cards                         0\n",
       "goals                             0\n",
       "assists                           0\n",
       "minutes_played                    0\n",
       "name                              0\n",
       "last_season                       0\n",
       "current_club_id                   0\n",
       "player_code                       0\n",
       "country_of_birth                  0\n",
       "date_of_birth                     0\n",
       "sub_position                      0\n",
       "position_x                        0\n",
       "foot                             97\n",
       "height_in_cm                     58\n",
       "market_value_in_eur            1296\n",
       "highest_market_value_in_eur       0\n",
       "contract_expiration_date       1427\n",
       "agent_name                     1106\n",
       "game_event_id                  2470\n",
       "date_y                         2470\n",
       "minute                         2470\n",
       "type_x                         2470\n",
       "player_id_y                    2470\n",
       "description                    3008\n",
       "player_in_id                   3067\n",
       "player_assist_id               3664\n",
       "game_lineups_id                3809\n",
       "type_y                         3809\n",
       "number                         3809\n",
       "player_id                      3809\n",
       "player_name_y                  3809\n",
       "team_captain                   3809\n",
       "position_y                     3809\n",
       "competition_id_y                  0\n",
       "season                            0\n",
       "round                             0\n",
       "date                              0\n",
       "home_club_goals                   0\n",
       "away_club_goals                   0\n",
       "home_club_position              550\n",
       "away_club_position              550\n",
       "home_club_manager_name            6\n",
       "away_club_manager_name            6\n",
       "stadium                           0\n",
       "attendance                      141\n",
       "referee                           5\n",
       "home_club_formation            3809\n",
       "away_club_formation            3809\n",
       "home_club_name                  128\n",
       "away_club_name                   68\n",
       "aggregate                         0\n",
       "competition_type                  0\n",
       "dtype: int64"
      ]
     },
     "execution_count": 8,
     "metadata": {},
     "output_type": "execute_result"
    }
   ],
   "source": [
    "data_final.isnull().sum()"
   ]
  },
  {
   "cell_type": "code",
   "execution_count": 9,
   "id": "cd44dc5f",
   "metadata": {},
   "outputs": [],
   "source": [
    "a = data_final.select_dtypes(exclude = \"object\")\n",
    "b = data_final.select_dtypes(include = \"object\")\n",
    "a_list = list (a.columns)\n",
    "b_list = list (b.columns)"
   ]
  },
  {
   "cell_type": "code",
   "execution_count": 10,
   "id": "c214e886",
   "metadata": {},
   "outputs": [
    {
     "name": "stdout",
     "output_type": "stream",
     "text": [
      "Categorical column      Numerical column\n",
      "----------------------  ---------------------------\n",
      "appearance_id           game_id\n",
      "player_name_x           player_id_x\n",
      "competition_id_x        date_x\n",
      "name                    yellow_cards\n",
      "player_code             red_cards\n",
      "country_of_birth        goals\n",
      "sub_position            assists\n",
      "position_x              minutes_played\n",
      "foot                    last_season\n",
      "agent_name              current_club_id\n",
      "game_event_id           date_of_birth\n",
      "type_x                  height_in_cm\n",
      "description             market_value_in_eur\n",
      "game_lineups_id         highest_market_value_in_eur\n",
      "type_y                  contract_expiration_date\n",
      "player_name_y           date_y\n",
      "position_y              minute\n",
      "competition_id_y        player_id_y\n",
      "round                   player_in_id\n",
      "home_club_manager_name  player_assist_id\n",
      "away_club_manager_name  number\n",
      "stadium                 player_id\n",
      "referee                 team_captain\n",
      "home_club_name          season\n",
      "away_club_name          date\n",
      "aggregate               home_club_goals\n",
      "competition_type        away_club_goals\n",
      "                        home_club_position\n",
      "                        away_club_position\n",
      "                        attendance\n",
      "                        home_club_formation\n",
      "                        away_club_formation\n"
     ]
    }
   ],
   "source": [
    "table = [a_list,b_list]\n",
    "print(tabulate({\"Categorical column\" :b_list,\n",
    "               \"Numerical column\" : a_list},\n",
    "              headers = ['Categorical column' , 'Numerical column']))"
   ]
  },
  {
   "cell_type": "code",
   "execution_count": 11,
   "id": "cf4064e2",
   "metadata": {},
   "outputs": [],
   "source": [
    "def info_cat_columns(col):\n",
    "    print(\"Mode value in a columns:\",data_final[col].mode()[0])\n",
    "    print(\"Null values            :\",data_final[col].isnull().sum())"
   ]
  },
  {
   "cell_type": "code",
   "execution_count": 12,
   "id": "45aca889",
   "metadata": {},
   "outputs": [
    {
     "name": "stdout",
     "output_type": "stream",
     "text": [
      "Mode value in a columns: right\n",
      "Null values            : 97\n"
     ]
    }
   ],
   "source": [
    "info_cat_columns(\"foot\")"
   ]
  },
  {
   "cell_type": "code",
   "execution_count": 13,
   "id": "081ee290",
   "metadata": {},
   "outputs": [],
   "source": [
    "data_final[\"foot\"].fillna('right', inplace = True)"
   ]
  },
  {
   "cell_type": "code",
   "execution_count": 14,
   "id": "d6beab1e",
   "metadata": {},
   "outputs": [
    {
     "name": "stdout",
     "output_type": "stream",
     "text": [
      "Mode value in a columns: right\n",
      "Null values            : 0\n"
     ]
    }
   ],
   "source": [
    "info_cat_columns(\"foot\")"
   ]
  },
  {
   "cell_type": "code",
   "execution_count": 15,
   "id": "90b41b5e",
   "metadata": {},
   "outputs": [
    {
     "name": "stdout",
     "output_type": "stream",
     "text": [
      "Mode value in a columns: 185.0\n",
      "Null values            : 58\n"
     ]
    }
   ],
   "source": [
    "info_cat_columns(\"height_in_cm\")"
   ]
  },
  {
   "cell_type": "code",
   "execution_count": 16,
   "id": "dab78453",
   "metadata": {},
   "outputs": [],
   "source": [
    "data_final[\"height_in_cm\"].fillna('185.0', inplace = True)"
   ]
  },
  {
   "cell_type": "code",
   "execution_count": 17,
   "id": "7c74d40f",
   "metadata": {},
   "outputs": [
    {
     "name": "stdout",
     "output_type": "stream",
     "text": [
      "Mode value in a columns: 185.0\n",
      "Null values            : 0\n"
     ]
    }
   ],
   "source": [
    "info_cat_columns(\"height_in_cm\")"
   ]
  },
  {
   "cell_type": "code",
   "execution_count": 18,
   "id": "a6ad8086",
   "metadata": {},
   "outputs": [
    {
     "name": "stdout",
     "output_type": "stream",
     "text": [
      "Mode value in a columns: 2000000.0\n",
      "Null values            : 1296\n"
     ]
    }
   ],
   "source": [
    "info_cat_columns(\"market_value_in_eur\")"
   ]
  },
  {
   "cell_type": "code",
   "execution_count": 19,
   "id": "98997f07",
   "metadata": {},
   "outputs": [],
   "source": [
    "data_final[\"market_value_in_eur\"].fillna('2000000.0', inplace = True)"
   ]
  },
  {
   "cell_type": "code",
   "execution_count": 20,
   "id": "f627ec6a",
   "metadata": {},
   "outputs": [
    {
     "name": "stdout",
     "output_type": "stream",
     "text": [
      "Mode value in a columns: 2000000.0\n",
      "Null values            : 0\n"
     ]
    }
   ],
   "source": [
    "info_cat_columns(\"market_value_in_eur\")"
   ]
  },
  {
   "cell_type": "code",
   "execution_count": 21,
   "id": "60b28fc7",
   "metadata": {},
   "outputs": [
    {
     "name": "stdout",
     "output_type": "stream",
     "text": [
      "Mode value in a columns: 2024-06-30 00:00:00\n",
      "Null values            : 1427\n"
     ]
    }
   ],
   "source": [
    "info_cat_columns(\"contract_expiration_date\")"
   ]
  },
  {
   "cell_type": "code",
   "execution_count": 22,
   "id": "0077fbdf",
   "metadata": {},
   "outputs": [],
   "source": [
    "data_final[\"contract_expiration_date\"].fillna('2024-06-30 00:00:00', inplace = True)"
   ]
  },
  {
   "cell_type": "code",
   "execution_count": 23,
   "id": "dde327fa",
   "metadata": {},
   "outputs": [
    {
     "name": "stdout",
     "output_type": "stream",
     "text": [
      "Mode value in a columns: 2024-06-30 00:00:00\n",
      "Null values            : 0\n"
     ]
    }
   ],
   "source": [
    "info_cat_columns(\"contract_expiration_date\")"
   ]
  },
  {
   "cell_type": "code",
   "execution_count": 24,
   "id": "f57d9f1b",
   "metadata": {},
   "outputs": [
    {
     "name": "stdout",
     "output_type": "stream",
     "text": [
      "Mode value in a columns: Wasserman\n",
      "Null values            : 1106\n"
     ]
    }
   ],
   "source": [
    "info_cat_columns(\"agent_name\")"
   ]
  },
  {
   "cell_type": "code",
   "execution_count": 25,
   "id": "e8ed37c7",
   "metadata": {},
   "outputs": [],
   "source": [
    "data_final[\"agent_name\"].fillna('Wasserman', inplace = True)"
   ]
  },
  {
   "cell_type": "code",
   "execution_count": 26,
   "id": "74579479",
   "metadata": {},
   "outputs": [
    {
     "name": "stdout",
     "output_type": "stream",
     "text": [
      "Mode value in a columns: Wasserman\n",
      "Null values            : 0\n"
     ]
    }
   ],
   "source": [
    "info_cat_columns(\"agent_name\")"
   ]
  },
  {
   "cell_type": "code",
   "execution_count": 27,
   "id": "ce4cfcec",
   "metadata": {},
   "outputs": [
    {
     "name": "stdout",
     "output_type": "stream",
     "text": [
      "Mode value in a columns: 01499694120cbf0fd845a0e5fc1f53c0\n",
      "Null values            : 2470\n"
     ]
    }
   ],
   "source": [
    "info_cat_columns(\"game_event_id\")"
   ]
  },
  {
   "cell_type": "code",
   "execution_count": 28,
   "id": "5e637a01",
   "metadata": {},
   "outputs": [],
   "source": [
    "data_final[\"game_event_id\"].fillna('01499694120cbf0fd845a0e5fc1f53c0', inplace = True)"
   ]
  },
  {
   "cell_type": "code",
   "execution_count": 29,
   "id": "f8695b08",
   "metadata": {},
   "outputs": [
    {
     "name": "stdout",
     "output_type": "stream",
     "text": [
      "Mode value in a columns: 01499694120cbf0fd845a0e5fc1f53c0\n",
      "Null values            : 0\n"
     ]
    }
   ],
   "source": [
    "info_cat_columns(\"game_event_id\")"
   ]
  },
  {
   "cell_type": "code",
   "execution_count": 30,
   "id": "70ff63b7",
   "metadata": {},
   "outputs": [
    {
     "name": "stdout",
     "output_type": "stream",
     "text": [
      "Mode value in a columns: 2012-09-23 00:00:00\n",
      "Null values            : 2470\n"
     ]
    }
   ],
   "source": [
    "info_cat_columns(\"date_y\")"
   ]
  },
  {
   "cell_type": "code",
   "execution_count": 31,
   "id": "0a03c8e0",
   "metadata": {},
   "outputs": [],
   "source": [
    "data_final[\"date_y\"].fillna('2012-09-23 00:00:00', inplace = True)"
   ]
  },
  {
   "cell_type": "code",
   "execution_count": 32,
   "id": "23508539",
   "metadata": {},
   "outputs": [
    {
     "name": "stdout",
     "output_type": "stream",
     "text": [
      "Mode value in a columns: 2012-09-23 00:00:00\n",
      "Null values            : 0\n"
     ]
    }
   ],
   "source": [
    "info_cat_columns(\"date_y\")"
   ]
  },
  {
   "cell_type": "code",
   "execution_count": 33,
   "id": "3bf446cb",
   "metadata": {},
   "outputs": [
    {
     "name": "stdout",
     "output_type": "stream",
     "text": [
      "Mode value in a columns: 90.0\n",
      "Null values            : 2470\n"
     ]
    }
   ],
   "source": [
    "info_cat_columns(\"minute\")"
   ]
  },
  {
   "cell_type": "code",
   "execution_count": 34,
   "id": "da9d9d58",
   "metadata": {},
   "outputs": [],
   "source": [
    "data_final[\"minute\"].fillna('90.0', inplace = True)"
   ]
  },
  {
   "cell_type": "code",
   "execution_count": 35,
   "id": "08e78fd0",
   "metadata": {},
   "outputs": [
    {
     "name": "stdout",
     "output_type": "stream",
     "text": [
      "Mode value in a columns: 90.0\n",
      "Null values            : 0\n"
     ]
    }
   ],
   "source": [
    "info_cat_columns(\"minute\")"
   ]
  },
  {
   "cell_type": "code",
   "execution_count": 36,
   "id": "a25163c7",
   "metadata": {},
   "outputs": [
    {
     "name": "stdout",
     "output_type": "stream",
     "text": [
      "Mode value in a columns: Substitutions\n",
      "Null values            : 2470\n"
     ]
    }
   ],
   "source": [
    "info_cat_columns(\"type_x\")"
   ]
  },
  {
   "cell_type": "code",
   "execution_count": 37,
   "id": "d25fa8cf",
   "metadata": {},
   "outputs": [],
   "source": [
    "data_final[\"type_x\"].fillna('Substitutions', inplace = True)"
   ]
  },
  {
   "cell_type": "code",
   "execution_count": 38,
   "id": "37de9675",
   "metadata": {},
   "outputs": [
    {
     "name": "stdout",
     "output_type": "stream",
     "text": [
      "Mode value in a columns: Substitutions\n",
      "Null values            : 0\n"
     ]
    }
   ],
   "source": [
    "info_cat_columns(\"type_x\")"
   ]
  },
  {
   "cell_type": "code",
   "execution_count": 39,
   "id": "7c8a6553",
   "metadata": {},
   "outputs": [
    {
     "name": "stdout",
     "output_type": "stream",
     "text": [
      "Mode value in a columns: 119169.0\n",
      "Null values            : 2470\n"
     ]
    }
   ],
   "source": [
    "info_cat_columns(\"player_id_y\")"
   ]
  },
  {
   "cell_type": "code",
   "execution_count": 40,
   "id": "254b73f8",
   "metadata": {},
   "outputs": [],
   "source": [
    "data_final[\"player_id_y\"].fillna('119169.0', inplace = True)"
   ]
  },
  {
   "cell_type": "code",
   "execution_count": 41,
   "id": "1c0b4822",
   "metadata": {},
   "outputs": [
    {
     "name": "stdout",
     "output_type": "stream",
     "text": [
      "Mode value in a columns: 119169.0\n",
      "Null values            : 0\n"
     ]
    }
   ],
   "source": [
    "info_cat_columns(\"player_id_y\")"
   ]
  },
  {
   "cell_type": "code",
   "execution_count": 42,
   "id": "aafb450a",
   "metadata": {},
   "outputs": [
    {
     "name": "stdout",
     "output_type": "stream",
     "text": [
      "Mode value in a columns: , Tactical\n",
      "Null values            : 3008\n"
     ]
    }
   ],
   "source": [
    "info_cat_columns(\"description\")"
   ]
  },
  {
   "cell_type": "code",
   "execution_count": 43,
   "id": "48cb4a9e",
   "metadata": {},
   "outputs": [],
   "source": [
    "data_final[\"description\"].fillna('Tactical', inplace = True)"
   ]
  },
  {
   "cell_type": "code",
   "execution_count": 44,
   "id": "76b4a08a",
   "metadata": {},
   "outputs": [
    {
     "name": "stdout",
     "output_type": "stream",
     "text": [
      "Mode value in a columns: Tactical\n",
      "Null values            : 0\n"
     ]
    }
   ],
   "source": [
    "info_cat_columns(\"description\")"
   ]
  },
  {
   "cell_type": "code",
   "execution_count": 45,
   "id": "3bd341e5",
   "metadata": {},
   "outputs": [
    {
     "name": "stdout",
     "output_type": "stream",
     "text": [
      "Mode value in a columns: 90466.0\n",
      "Null values            : 3067\n"
     ]
    }
   ],
   "source": [
    "info_cat_columns(\"player_in_id\")"
   ]
  },
  {
   "cell_type": "code",
   "execution_count": 46,
   "id": "876fcc74",
   "metadata": {},
   "outputs": [],
   "source": [
    "data_final[\"player_in_id\"].fillna('90466.0', inplace = True)"
   ]
  },
  {
   "cell_type": "code",
   "execution_count": 47,
   "id": "7babf4e6",
   "metadata": {},
   "outputs": [
    {
     "name": "stdout",
     "output_type": "stream",
     "text": [
      "Mode value in a columns: 90466.0\n",
      "Null values            : 0\n"
     ]
    }
   ],
   "source": [
    "info_cat_columns(\"player_in_id\")"
   ]
  },
  {
   "cell_type": "code",
   "execution_count": 48,
   "id": "484d7e40",
   "metadata": {},
   "outputs": [
    {
     "name": "stdout",
     "output_type": "stream",
     "text": [
      "Mode value in a columns: 36391.0\n",
      "Null values            : 3664\n"
     ]
    }
   ],
   "source": [
    "info_cat_columns(\"player_assist_id\")"
   ]
  },
  {
   "cell_type": "code",
   "execution_count": 49,
   "id": "3a3387e2",
   "metadata": {},
   "outputs": [],
   "source": [
    "data_final[\"player_assist_id\"].fillna('36391.0', inplace = True)"
   ]
  },
  {
   "cell_type": "code",
   "execution_count": 50,
   "id": "e68f54e7",
   "metadata": {},
   "outputs": [
    {
     "name": "stdout",
     "output_type": "stream",
     "text": [
      "Mode value in a columns: 36391.0\n",
      "Null values            : 0\n"
     ]
    }
   ],
   "source": [
    "info_cat_columns(\"player_assist_id\")"
   ]
  },
  {
   "cell_type": "code",
   "execution_count": 51,
   "id": "bcf31394",
   "metadata": {},
   "outputs": [
    {
     "name": "stdout",
     "output_type": "stream",
     "text": [
      "Mode value in a columns: 3.0\n",
      "Null values            : 550\n"
     ]
    }
   ],
   "source": [
    "info_cat_columns(\"home_club_position\")"
   ]
  },
  {
   "cell_type": "code",
   "execution_count": 52,
   "id": "1ce6a1b0",
   "metadata": {},
   "outputs": [],
   "source": [
    "data_final[\"home_club_position\"].fillna('3.0', inplace = True)"
   ]
  },
  {
   "cell_type": "code",
   "execution_count": 53,
   "id": "2a582c65",
   "metadata": {},
   "outputs": [
    {
     "name": "stdout",
     "output_type": "stream",
     "text": [
      "Mode value in a columns: 3.0\n",
      "Null values            : 0\n"
     ]
    }
   ],
   "source": [
    "info_cat_columns(\"home_club_position\")"
   ]
  },
  {
   "cell_type": "code",
   "execution_count": 54,
   "id": "8350ac7c",
   "metadata": {},
   "outputs": [
    {
     "name": "stdout",
     "output_type": "stream",
     "text": [
      "Mode value in a columns: 10.0\n",
      "Null values            : 550\n"
     ]
    }
   ],
   "source": [
    "info_cat_columns(\"away_club_position\")"
   ]
  },
  {
   "cell_type": "code",
   "execution_count": 55,
   "id": "9d50f76e",
   "metadata": {},
   "outputs": [],
   "source": [
    "data_final[\"away_club_position\"].fillna('10.0', inplace = True)"
   ]
  },
  {
   "cell_type": "code",
   "execution_count": 56,
   "id": "645b89fd",
   "metadata": {},
   "outputs": [
    {
     "name": "stdout",
     "output_type": "stream",
     "text": [
      "Mode value in a columns: 10.0\n",
      "Null values            : 0\n"
     ]
    }
   ],
   "source": [
    "info_cat_columns(\"away_club_position\")"
   ]
  },
  {
   "cell_type": "code",
   "execution_count": 57,
   "id": "6445dc27",
   "metadata": {},
   "outputs": [
    {
     "name": "stdout",
     "output_type": "stream",
     "text": [
      "Mode value in a columns: Mark Hughes\n",
      "Null values            : 6\n"
     ]
    }
   ],
   "source": [
    "info_cat_columns(\"home_club_manager_name\")"
   ]
  },
  {
   "cell_type": "code",
   "execution_count": 58,
   "id": "99a7d9ae",
   "metadata": {},
   "outputs": [],
   "source": [
    "data_final[\"home_club_manager_name\"].fillna('Mark Hughes', inplace = True)"
   ]
  },
  {
   "cell_type": "code",
   "execution_count": 59,
   "id": "c7c8a7a3",
   "metadata": {},
   "outputs": [
    {
     "name": "stdout",
     "output_type": "stream",
     "text": [
      "Mode value in a columns: Mark Hughes\n",
      "Null values            : 0\n"
     ]
    }
   ],
   "source": [
    "info_cat_columns(\"home_club_manager_name\")"
   ]
  },
  {
   "cell_type": "code",
   "execution_count": 60,
   "id": "4a40d72d",
   "metadata": {},
   "outputs": [
    {
     "name": "stdout",
     "output_type": "stream",
     "text": [
      "Mode value in a columns: Mark Hughes\n",
      "Null values            : 6\n"
     ]
    }
   ],
   "source": [
    "info_cat_columns(\"away_club_manager_name\")"
   ]
  },
  {
   "cell_type": "code",
   "execution_count": 61,
   "id": "a674abf3",
   "metadata": {},
   "outputs": [],
   "source": [
    "data_final[\"away_club_manager_name\"].fillna('Mark Hughes', inplace = True)"
   ]
  },
  {
   "cell_type": "code",
   "execution_count": 62,
   "id": "741f71fe",
   "metadata": {},
   "outputs": [
    {
     "name": "stdout",
     "output_type": "stream",
     "text": [
      "Mode value in a columns: Mark Hughes\n",
      "Null values            : 0\n"
     ]
    }
   ],
   "source": [
    "info_cat_columns(\"away_club_manager_name\")"
   ]
  },
  {
   "cell_type": "code",
   "execution_count": 63,
   "id": "0f9b91ad",
   "metadata": {},
   "outputs": [
    {
     "name": "stdout",
     "output_type": "stream",
     "text": [
      "Mode value in a columns: 81360.0\n",
      "Null values            : 141\n"
     ]
    }
   ],
   "source": [
    "info_cat_columns(\"attendance\")"
   ]
  },
  {
   "cell_type": "code",
   "execution_count": 64,
   "id": "ca83a892",
   "metadata": {},
   "outputs": [],
   "source": [
    "data_final[\"attendance\"].fillna('81360.0', inplace = True)"
   ]
  },
  {
   "cell_type": "code",
   "execution_count": 65,
   "id": "399a37cf",
   "metadata": {},
   "outputs": [
    {
     "name": "stdout",
     "output_type": "stream",
     "text": [
      "Mode value in a columns: 81360.0\n",
      "Null values            : 0\n"
     ]
    }
   ],
   "source": [
    "info_cat_columns(\"attendance\")"
   ]
  },
  {
   "cell_type": "code",
   "execution_count": 66,
   "id": "d3ed404d",
   "metadata": {},
   "outputs": [
    {
     "name": "stdout",
     "output_type": "stream",
     "text": [
      "Mode value in a columns: Dr. Felix Brych\n",
      "Null values            : 5\n"
     ]
    }
   ],
   "source": [
    "info_cat_columns(\"referee\")"
   ]
  },
  {
   "cell_type": "code",
   "execution_count": 67,
   "id": "e710ae7a",
   "metadata": {},
   "outputs": [],
   "source": [
    "data_final[\"referee\"].fillna('Dr. Felix Brych', inplace = True)"
   ]
  },
  {
   "cell_type": "code",
   "execution_count": 68,
   "id": "667a12c1",
   "metadata": {},
   "outputs": [
    {
     "name": "stdout",
     "output_type": "stream",
     "text": [
      "Mode value in a columns: Dr. Felix Brych\n",
      "Null values            : 0\n"
     ]
    }
   ],
   "source": [
    "info_cat_columns(\"referee\")"
   ]
  },
  {
   "cell_type": "code",
   "execution_count": 69,
   "id": "b8bfc218",
   "metadata": {},
   "outputs": [
    {
     "name": "stdout",
     "output_type": "stream",
     "text": [
      "Mode value in a columns: Borussia Dortmund\n",
      "Null values            : 128\n"
     ]
    }
   ],
   "source": [
    "info_cat_columns(\"home_club_name\")"
   ]
  },
  {
   "cell_type": "code",
   "execution_count": 70,
   "id": "f24ef02c",
   "metadata": {},
   "outputs": [],
   "source": [
    "data_final[\"home_club_name\"].fillna('Borussia Dortmund', inplace = True)"
   ]
  },
  {
   "cell_type": "code",
   "execution_count": 71,
   "id": "0c3d181a",
   "metadata": {},
   "outputs": [
    {
     "name": "stdout",
     "output_type": "stream",
     "text": [
      "Mode value in a columns: Borussia Dortmund\n",
      "Null values            : 0\n"
     ]
    }
   ],
   "source": [
    "info_cat_columns(\"home_club_name\")"
   ]
  },
  {
   "cell_type": "code",
   "execution_count": 72,
   "id": "8369cc99",
   "metadata": {},
   "outputs": [
    {
     "name": "stdout",
     "output_type": "stream",
     "text": [
      "Mode value in a columns: Borussia Dortmund\n",
      "Null values            : 68\n"
     ]
    }
   ],
   "source": [
    "info_cat_columns(\"away_club_name\")"
   ]
  },
  {
   "cell_type": "code",
   "execution_count": 73,
   "id": "02924a36",
   "metadata": {},
   "outputs": [],
   "source": [
    "data_final[\"away_club_name\"].fillna('Borussia Dortmund', inplace = True)"
   ]
  },
  {
   "cell_type": "code",
   "execution_count": 74,
   "id": "b168dce4",
   "metadata": {},
   "outputs": [
    {
     "name": "stdout",
     "output_type": "stream",
     "text": [
      "Mode value in a columns: Borussia Dortmund\n",
      "Null values            : 0\n"
     ]
    }
   ],
   "source": [
    "info_cat_columns(\"away_club_name\")"
   ]
  },
  {
   "cell_type": "code",
   "execution_count": 75,
   "id": "47c13afb",
   "metadata": {},
   "outputs": [
    {
     "data": {
      "text/plain": [
       "appearance_id                     0\n",
       "game_id                           0\n",
       "player_id_x                       0\n",
       "date_x                            0\n",
       "player_name_x                     0\n",
       "competition_id_x                  0\n",
       "yellow_cards                      0\n",
       "red_cards                         0\n",
       "goals                             0\n",
       "assists                           0\n",
       "minutes_played                    0\n",
       "name                              0\n",
       "last_season                       0\n",
       "current_club_id                   0\n",
       "player_code                       0\n",
       "country_of_birth                  0\n",
       "date_of_birth                     0\n",
       "sub_position                      0\n",
       "position_x                        0\n",
       "foot                              0\n",
       "height_in_cm                      0\n",
       "market_value_in_eur               0\n",
       "highest_market_value_in_eur       0\n",
       "contract_expiration_date          0\n",
       "agent_name                        0\n",
       "game_event_id                     0\n",
       "date_y                            0\n",
       "minute                            0\n",
       "type_x                            0\n",
       "player_id_y                       0\n",
       "description                       0\n",
       "player_in_id                      0\n",
       "player_assist_id                  0\n",
       "game_lineups_id                3809\n",
       "type_y                         3809\n",
       "number                         3809\n",
       "player_id                      3809\n",
       "player_name_y                  3809\n",
       "team_captain                   3809\n",
       "position_y                     3809\n",
       "competition_id_y                  0\n",
       "season                            0\n",
       "round                             0\n",
       "date                              0\n",
       "home_club_goals                   0\n",
       "away_club_goals                   0\n",
       "home_club_position                0\n",
       "away_club_position                0\n",
       "home_club_manager_name            0\n",
       "away_club_manager_name            0\n",
       "stadium                           0\n",
       "attendance                        0\n",
       "referee                           0\n",
       "home_club_formation            3809\n",
       "away_club_formation            3809\n",
       "home_club_name                    0\n",
       "away_club_name                    0\n",
       "aggregate                         0\n",
       "competition_type                  0\n",
       "dtype: int64"
      ]
     },
     "execution_count": 75,
     "metadata": {},
     "output_type": "execute_result"
    }
   ],
   "source": [
    "data_final.isnull().sum()"
   ]
  },
  {
   "cell_type": "code",
   "execution_count": 76,
   "id": "98e58fcb",
   "metadata": {},
   "outputs": [],
   "source": [
    "data_final.drop('game_lineups_id', axis=1, inplace=True)\n"
   ]
  },
  {
   "cell_type": "code",
   "execution_count": 77,
   "id": "28c00c59",
   "metadata": {},
   "outputs": [],
   "source": [
    "data_final.drop('type_y', axis=1, inplace=True)\n"
   ]
  },
  {
   "cell_type": "code",
   "execution_count": 78,
   "id": "6404d6b7",
   "metadata": {},
   "outputs": [],
   "source": [
    "data_final.drop('home_club_formation', axis=1, inplace=True)"
   ]
  },
  {
   "cell_type": "code",
   "execution_count": 79,
   "id": "6f9137ca",
   "metadata": {},
   "outputs": [],
   "source": [
    "data_final.drop('away_club_formation', axis=1, inplace=True)\n"
   ]
  },
  {
   "cell_type": "code",
   "execution_count": 80,
   "id": "187b9e15",
   "metadata": {},
   "outputs": [],
   "source": [
    "data_final.drop('position_y', axis=1, inplace=True)"
   ]
  },
  {
   "cell_type": "code",
   "execution_count": 81,
   "id": "01e68492",
   "metadata": {},
   "outputs": [],
   "source": [
    "data_final.drop('team_captain', axis=1, inplace=True)"
   ]
  },
  {
   "cell_type": "code",
   "execution_count": 82,
   "id": "d97772be",
   "metadata": {},
   "outputs": [],
   "source": [
    "data_final.drop('player_name_y', axis=1, inplace=True)"
   ]
  },
  {
   "cell_type": "code",
   "execution_count": 83,
   "id": "af47135f",
   "metadata": {},
   "outputs": [],
   "source": [
    "data_final.drop('player_id', axis=1, inplace=True)"
   ]
  },
  {
   "cell_type": "code",
   "execution_count": 84,
   "id": "b09f9795",
   "metadata": {},
   "outputs": [],
   "source": [
    "data_final.drop('number', axis=1, inplace=True)"
   ]
  },
  {
   "cell_type": "code",
   "execution_count": 85,
   "id": "d781c8cf",
   "metadata": {},
   "outputs": [
    {
     "name": "stdout",
     "output_type": "stream",
     "text": [
      "Index(['appearance_id', 'game_id', 'player_id_x', 'date_x', 'player_name_x',\n",
      "       'competition_id_x', 'yellow_cards', 'red_cards', 'goals', 'assists',\n",
      "       'minutes_played', 'name', 'last_season', 'current_club_id',\n",
      "       'player_code', 'country_of_birth', 'date_of_birth', 'sub_position',\n",
      "       'position_x', 'foot', 'height_in_cm', 'market_value_in_eur',\n",
      "       'highest_market_value_in_eur', 'contract_expiration_date', 'agent_name',\n",
      "       'game_event_id', 'date_y', 'minute', 'type_x', 'player_id_y',\n",
      "       'description', 'player_in_id', 'player_assist_id', 'competition_id_y',\n",
      "       'season', 'round', 'date', 'home_club_goals', 'away_club_goals',\n",
      "       'home_club_position', 'away_club_position', 'home_club_manager_name',\n",
      "       'away_club_manager_name', 'stadium', 'attendance', 'referee',\n",
      "       'home_club_name', 'away_club_name', 'aggregate', 'competition_type'],\n",
      "      dtype='object')\n"
     ]
    }
   ],
   "source": [
    "print(data_final.columns)"
   ]
  },
  {
   "cell_type": "code",
   "execution_count": 86,
   "id": "3de9302c",
   "metadata": {},
   "outputs": [
    {
     "data": {
      "text/plain": [
       "appearance_id                  0\n",
       "game_id                        0\n",
       "player_id_x                    0\n",
       "date_x                         0\n",
       "player_name_x                  0\n",
       "competition_id_x               0\n",
       "yellow_cards                   0\n",
       "red_cards                      0\n",
       "goals                          0\n",
       "assists                        0\n",
       "minutes_played                 0\n",
       "name                           0\n",
       "last_season                    0\n",
       "current_club_id                0\n",
       "player_code                    0\n",
       "country_of_birth               0\n",
       "date_of_birth                  0\n",
       "sub_position                   0\n",
       "position_x                     0\n",
       "foot                           0\n",
       "height_in_cm                   0\n",
       "market_value_in_eur            0\n",
       "highest_market_value_in_eur    0\n",
       "contract_expiration_date       0\n",
       "agent_name                     0\n",
       "game_event_id                  0\n",
       "date_y                         0\n",
       "minute                         0\n",
       "type_x                         0\n",
       "player_id_y                    0\n",
       "description                    0\n",
       "player_in_id                   0\n",
       "player_assist_id               0\n",
       "competition_id_y               0\n",
       "season                         0\n",
       "round                          0\n",
       "date                           0\n",
       "home_club_goals                0\n",
       "away_club_goals                0\n",
       "home_club_position             0\n",
       "away_club_position             0\n",
       "home_club_manager_name         0\n",
       "away_club_manager_name         0\n",
       "stadium                        0\n",
       "attendance                     0\n",
       "referee                        0\n",
       "home_club_name                 0\n",
       "away_club_name                 0\n",
       "aggregate                      0\n",
       "competition_type               0\n",
       "dtype: int64"
      ]
     },
     "execution_count": 86,
     "metadata": {},
     "output_type": "execute_result"
    }
   ],
   "source": [
    "data_final.isnull().sum()"
   ]
  },
  {
   "cell_type": "code",
   "execution_count": 87,
   "id": "cf80eaf0",
   "metadata": {},
   "outputs": [
    {
     "data": {
      "text/plain": [
       "(3809, 50)"
      ]
     },
     "execution_count": 87,
     "metadata": {},
     "output_type": "execute_result"
    }
   ],
   "source": [
    "data_final.shape"
   ]
  },
  {
   "cell_type": "code",
   "execution_count": 88,
   "id": "d2f744ae",
   "metadata": {},
   "outputs": [],
   "source": [
    "data_final.to_csv(\"project merged_data.csv\",index =False)"
   ]
  },
  {
   "cell_type": "code",
   "execution_count": 89,
   "id": "c4a91d28",
   "metadata": {},
   "outputs": [
    {
     "data": {
      "text/html": [
       "<div>\n",
       "<style scoped>\n",
       "    .dataframe tbody tr th:only-of-type {\n",
       "        vertical-align: middle;\n",
       "    }\n",
       "\n",
       "    .dataframe tbody tr th {\n",
       "        vertical-align: top;\n",
       "    }\n",
       "\n",
       "    .dataframe thead th {\n",
       "        text-align: right;\n",
       "    }\n",
       "</style>\n",
       "<table border=\"1\" class=\"dataframe\">\n",
       "  <thead>\n",
       "    <tr style=\"text-align: right;\">\n",
       "      <th></th>\n",
       "      <th>appearance_id</th>\n",
       "      <th>game_id</th>\n",
       "      <th>player_id_x</th>\n",
       "      <th>date_x</th>\n",
       "      <th>player_name_x</th>\n",
       "      <th>competition_id_x</th>\n",
       "      <th>yellow_cards</th>\n",
       "      <th>red_cards</th>\n",
       "      <th>goals</th>\n",
       "      <th>assists</th>\n",
       "      <th>...</th>\n",
       "      <th>away_club_position</th>\n",
       "      <th>home_club_manager_name</th>\n",
       "      <th>away_club_manager_name</th>\n",
       "      <th>stadium</th>\n",
       "      <th>attendance</th>\n",
       "      <th>referee</th>\n",
       "      <th>home_club_name</th>\n",
       "      <th>away_club_name</th>\n",
       "      <th>aggregate</th>\n",
       "      <th>competition_type</th>\n",
       "    </tr>\n",
       "  </thead>\n",
       "  <tbody>\n",
       "    <tr>\n",
       "      <th>0</th>\n",
       "      <td>2224728_119169</td>\n",
       "      <td>2224728</td>\n",
       "      <td>119169</td>\n",
       "      <td>2012-07-13</td>\n",
       "      <td>Aron Johannsson</td>\n",
       "      <td>DK1</td>\n",
       "      <td>0</td>\n",
       "      <td>0</td>\n",
       "      <td>0</td>\n",
       "      <td>0</td>\n",
       "      <td>...</td>\n",
       "      <td>7.0</td>\n",
       "      <td>Peter Rensen</td>\n",
       "      <td>Kent Nielsen</td>\n",
       "      <td>Ceres Park</td>\n",
       "      <td>9728.0</td>\n",
       "      <td>Michael Svendsen</td>\n",
       "      <td>Aarhus Gymnastik Forening</td>\n",
       "      <td>Aalborg BK</td>\n",
       "      <td>01:01:00</td>\n",
       "      <td>domestic_league</td>\n",
       "    </tr>\n",
       "    <tr>\n",
       "      <th>1</th>\n",
       "      <td>2224732_161244</td>\n",
       "      <td>2224732</td>\n",
       "      <td>161244</td>\n",
       "      <td>2012-07-14</td>\n",
       "      <td>Conor O'Brien</td>\n",
       "      <td>DK1</td>\n",
       "      <td>0</td>\n",
       "      <td>0</td>\n",
       "      <td>1</td>\n",
       "      <td>0</td>\n",
       "      <td>...</td>\n",
       "      <td>12.0</td>\n",
       "      <td>Lars Sondergaard</td>\n",
       "      <td>Colin Todd</td>\n",
       "      <td>Sydbank Park</td>\n",
       "      <td>2995.0</td>\n",
       "      <td>Claus Bo Larsen</td>\n",
       "      <td>Sonderjyske Fc</td>\n",
       "      <td>Randers Fodbold Club</td>\n",
       "      <td>06:01:00</td>\n",
       "      <td>domestic_league</td>\n",
       "    </tr>\n",
       "    <tr>\n",
       "      <th>2</th>\n",
       "      <td>2224729_39467</td>\n",
       "      <td>2224729</td>\n",
       "      <td>39467</td>\n",
       "      <td>2012-07-15</td>\n",
       "      <td>Clarence Goodson</td>\n",
       "      <td>DK1</td>\n",
       "      <td>0</td>\n",
       "      <td>0</td>\n",
       "      <td>0</td>\n",
       "      <td>0</td>\n",
       "      <td>...</td>\n",
       "      <td>5.0</td>\n",
       "      <td>Auri Skarbalius</td>\n",
       "      <td>Troels Bech</td>\n",
       "      <td>Brondby Stadium</td>\n",
       "      <td>10806.0</td>\n",
       "      <td>Lars Christoffersen</td>\n",
       "      <td>Brondby IF</td>\n",
       "      <td>Odense Boldklub</td>\n",
       "      <td>00:01:00</td>\n",
       "      <td>domestic_league</td>\n",
       "    </tr>\n",
       "    <tr>\n",
       "      <th>3</th>\n",
       "      <td>2232104_119169</td>\n",
       "      <td>2232104</td>\n",
       "      <td>119169</td>\n",
       "      <td>2012-07-19</td>\n",
       "      <td>Aron Johannsson</td>\n",
       "      <td>ELQ</td>\n",
       "      <td>0</td>\n",
       "      <td>0</td>\n",
       "      <td>0</td>\n",
       "      <td>0</td>\n",
       "      <td>...</td>\n",
       "      <td>10.0</td>\n",
       "      <td>Peter Rensen</td>\n",
       "      <td>Temur Shalamberidze</td>\n",
       "      <td>Ceres Park</td>\n",
       "      <td>9000.0</td>\n",
       "      <td>Boako Jovanetic</td>\n",
       "      <td>Aarhus Gymnastik Forening</td>\n",
       "      <td>Borussia Dortmund</td>\n",
       "      <td>01:02:00</td>\n",
       "      <td>international_cup</td>\n",
       "    </tr>\n",
       "    <tr>\n",
       "      <th>4</th>\n",
       "      <td>2219794_39475</td>\n",
       "      <td>2219794</td>\n",
       "      <td>39475</td>\n",
       "      <td>2012-07-22</td>\n",
       "      <td>Sacha Kljestan</td>\n",
       "      <td>BESC</td>\n",
       "      <td>0</td>\n",
       "      <td>0</td>\n",
       "      <td>0</td>\n",
       "      <td>0</td>\n",
       "      <td>...</td>\n",
       "      <td>10.0</td>\n",
       "      <td>John van den Brom</td>\n",
       "      <td>Peter Maes</td>\n",
       "      <td>Constant Vanden Stock Stadion</td>\n",
       "      <td>14485.0</td>\n",
       "      <td>Laurent Colemonts</td>\n",
       "      <td>Royal Sporting Club Anderlecht</td>\n",
       "      <td>KSC Lokeren (- 2020)</td>\n",
       "      <td>03:02:00</td>\n",
       "      <td>other</td>\n",
       "    </tr>\n",
       "    <tr>\n",
       "      <th>...</th>\n",
       "      <td>...</td>\n",
       "      <td>...</td>\n",
       "      <td>...</td>\n",
       "      <td>...</td>\n",
       "      <td>...</td>\n",
       "      <td>...</td>\n",
       "      <td>...</td>\n",
       "      <td>...</td>\n",
       "      <td>...</td>\n",
       "      <td>...</td>\n",
       "      <td>...</td>\n",
       "      <td>...</td>\n",
       "      <td>...</td>\n",
       "      <td>...</td>\n",
       "      <td>...</td>\n",
       "      <td>...</td>\n",
       "      <td>...</td>\n",
       "      <td>...</td>\n",
       "      <td>...</td>\n",
       "      <td>...</td>\n",
       "      <td>...</td>\n",
       "    </tr>\n",
       "    <tr>\n",
       "      <th>3804</th>\n",
       "      <td>3415291_537467</td>\n",
       "      <td>3415291</td>\n",
       "      <td>537467</td>\n",
       "      <td>2020-09-26</td>\n",
       "      <td>Joseph Efford</td>\n",
       "      <td>BE1</td>\n",
       "      <td>0</td>\n",
       "      <td>0</td>\n",
       "      <td>1</td>\n",
       "      <td>0</td>\n",
       "      <td>...</td>\n",
       "      <td>18.0</td>\n",
       "      <td>Hernan Losada</td>\n",
       "      <td>Nicky Hayen</td>\n",
       "      <td>Olympisch Stadion</td>\n",
       "      <td>3200.0</td>\n",
       "      <td>Wesli De Cremer</td>\n",
       "      <td>Beerschot V.A.</td>\n",
       "      <td>SK Beveren</td>\n",
       "      <td>03:02:00</td>\n",
       "      <td>domestic_league</td>\n",
       "    </tr>\n",
       "    <tr>\n",
       "      <th>3805</th>\n",
       "      <td>3415296_367423</td>\n",
       "      <td>3415296</td>\n",
       "      <td>367423</td>\n",
       "      <td>2020-09-26</td>\n",
       "      <td>Chris Durkin</td>\n",
       "      <td>BE1</td>\n",
       "      <td>1</td>\n",
       "      <td>0</td>\n",
       "      <td>0</td>\n",
       "      <td>0</td>\n",
       "      <td>...</td>\n",
       "      <td>16.0</td>\n",
       "      <td>Wouter Vrancken</td>\n",
       "      <td>Kevin Muscat</td>\n",
       "      <td>AFAS Stadion</td>\n",
       "      <td>5185.0</td>\n",
       "      <td>Nathan Verboomen</td>\n",
       "      <td>Yellow-Red Koninklijke Voetbalclub Mechelen</td>\n",
       "      <td>Koninklijke Sint-Truidense Voetbalvereniging</td>\n",
       "      <td>02:00:00</td>\n",
       "      <td>domestic_league</td>\n",
       "    </tr>\n",
       "    <tr>\n",
       "      <th>3806</th>\n",
       "      <td>3431983_478940</td>\n",
       "      <td>3431983</td>\n",
       "      <td>478940</td>\n",
       "      <td>2020-09-26</td>\n",
       "      <td>Reggie Cannon</td>\n",
       "      <td>PO1</td>\n",
       "      <td>0</td>\n",
       "      <td>0</td>\n",
       "      <td>0</td>\n",
       "      <td>0</td>\n",
       "      <td>...</td>\n",
       "      <td>1.0</td>\n",
       "      <td>Vasco Seabra</td>\n",
       "      <td>Sergio Conceicao</td>\n",
       "      <td>Estádio do Bessa</td>\n",
       "      <td>81360.0</td>\n",
       "      <td>Luís Godinho</td>\n",
       "      <td>Boavista Futebol Clube</td>\n",
       "      <td>Futebol Clube do Porto</td>\n",
       "      <td>00:05:00</td>\n",
       "      <td>domestic_league</td>\n",
       "    </tr>\n",
       "    <tr>\n",
       "      <th>3807</th>\n",
       "      <td>3450575_361104</td>\n",
       "      <td>3450575</td>\n",
       "      <td>361104</td>\n",
       "      <td>2020-09-26</td>\n",
       "      <td>Sergino Dest</td>\n",
       "      <td>NL1</td>\n",
       "      <td>0</td>\n",
       "      <td>0</td>\n",
       "      <td>0</td>\n",
       "      <td>0</td>\n",
       "      <td>...</td>\n",
       "      <td>6.0</td>\n",
       "      <td>Erik ten Hag</td>\n",
       "      <td>Thomas Letsch</td>\n",
       "      <td>Johan Cruijff ArenA</td>\n",
       "      <td>15000.0</td>\n",
       "      <td>Pol van Boekel</td>\n",
       "      <td>AFC Ajax Amsterdam</td>\n",
       "      <td>Stichting Betaald Voetbal Vitesse Arnhem</td>\n",
       "      <td>02:01:00</td>\n",
       "      <td>domestic_league</td>\n",
       "    </tr>\n",
       "    <tr>\n",
       "      <th>3808</th>\n",
       "      <td>3412904_124732</td>\n",
       "      <td>3412904</td>\n",
       "      <td>124732</td>\n",
       "      <td>2020-09-27</td>\n",
       "      <td>John Anthony Brooks</td>\n",
       "      <td>L1</td>\n",
       "      <td>1</td>\n",
       "      <td>0</td>\n",
       "      <td>0</td>\n",
       "      <td>0</td>\n",
       "      <td>...</td>\n",
       "      <td>13.0</td>\n",
       "      <td>Christian Streich</td>\n",
       "      <td>Oliver Glasner</td>\n",
       "      <td>Dreisamstadion</td>\n",
       "      <td>3200.0</td>\n",
       "      <td>Soren Storks</td>\n",
       "      <td>Sport-Club Freiburg</td>\n",
       "      <td>Verein Fur leibesubungen Wolfsburg</td>\n",
       "      <td>01:01:00</td>\n",
       "      <td>domestic_league</td>\n",
       "    </tr>\n",
       "  </tbody>\n",
       "</table>\n",
       "<p>3809 rows × 50 columns</p>\n",
       "</div>"
      ],
      "text/plain": [
       "       appearance_id  game_id  player_id_x     date_x        player_name_x  \\\n",
       "0     2224728_119169  2224728       119169 2012-07-13      Aron Johannsson   \n",
       "1     2224732_161244  2224732       161244 2012-07-14        Conor O'Brien   \n",
       "2      2224729_39467  2224729        39467 2012-07-15     Clarence Goodson   \n",
       "3     2232104_119169  2232104       119169 2012-07-19      Aron Johannsson   \n",
       "4      2219794_39475  2219794        39475 2012-07-22       Sacha Kljestan   \n",
       "...              ...      ...          ...        ...                  ...   \n",
       "3804  3415291_537467  3415291       537467 2020-09-26        Joseph Efford   \n",
       "3805  3415296_367423  3415296       367423 2020-09-26         Chris Durkin   \n",
       "3806  3431983_478940  3431983       478940 2020-09-26        Reggie Cannon   \n",
       "3807  3450575_361104  3450575       361104 2020-09-26         Sergino Dest   \n",
       "3808  3412904_124732  3412904       124732 2020-09-27  John Anthony Brooks   \n",
       "\n",
       "     competition_id_x  yellow_cards  red_cards  goals  assists  ...  \\\n",
       "0                 DK1             0          0      0        0  ...   \n",
       "1                 DK1             0          0      1        0  ...   \n",
       "2                 DK1             0          0      0        0  ...   \n",
       "3                 ELQ             0          0      0        0  ...   \n",
       "4                BESC             0          0      0        0  ...   \n",
       "...               ...           ...        ...    ...      ...  ...   \n",
       "3804              BE1             0          0      1        0  ...   \n",
       "3805              BE1             1          0      0        0  ...   \n",
       "3806              PO1             0          0      0        0  ...   \n",
       "3807              NL1             0          0      0        0  ...   \n",
       "3808               L1             1          0      0        0  ...   \n",
       "\n",
       "      away_club_position home_club_manager_name  away_club_manager_name  \\\n",
       "0                    7.0           Peter Rensen            Kent Nielsen   \n",
       "1                   12.0       Lars Sondergaard              Colin Todd   \n",
       "2                    5.0        Auri Skarbalius             Troels Bech   \n",
       "3                   10.0           Peter Rensen     Temur Shalamberidze   \n",
       "4                   10.0      John van den Brom              Peter Maes   \n",
       "...                  ...                    ...                     ...   \n",
       "3804                18.0          Hernan Losada             Nicky Hayen   \n",
       "3805                16.0        Wouter Vrancken            Kevin Muscat   \n",
       "3806                 1.0           Vasco Seabra        Sergio Conceicao   \n",
       "3807                 6.0           Erik ten Hag           Thomas Letsch   \n",
       "3808                13.0      Christian Streich          Oliver Glasner   \n",
       "\n",
       "                            stadium attendance              referee  \\\n",
       "0                        Ceres Park     9728.0     Michael Svendsen   \n",
       "1                      Sydbank Park     2995.0      Claus Bo Larsen   \n",
       "2                   Brondby Stadium    10806.0  Lars Christoffersen   \n",
       "3                        Ceres Park     9000.0      Boako Jovanetic   \n",
       "4     Constant Vanden Stock Stadion    14485.0    Laurent Colemonts   \n",
       "...                             ...        ...                  ...   \n",
       "3804              Olympisch Stadion     3200.0      Wesli De Cremer   \n",
       "3805                   AFAS Stadion     5185.0     Nathan Verboomen   \n",
       "3806               Estádio do Bessa    81360.0         Luís Godinho   \n",
       "3807            Johan Cruijff ArenA    15000.0       Pol van Boekel   \n",
       "3808                 Dreisamstadion     3200.0         Soren Storks   \n",
       "\n",
       "                                   home_club_name  \\\n",
       "0                       Aarhus Gymnastik Forening   \n",
       "1                                  Sonderjyske Fc   \n",
       "2                                      Brondby IF   \n",
       "3                       Aarhus Gymnastik Forening   \n",
       "4                  Royal Sporting Club Anderlecht   \n",
       "...                                           ...   \n",
       "3804                               Beerschot V.A.   \n",
       "3805  Yellow-Red Koninklijke Voetbalclub Mechelen   \n",
       "3806                       Boavista Futebol Clube   \n",
       "3807                           AFC Ajax Amsterdam   \n",
       "3808                          Sport-Club Freiburg   \n",
       "\n",
       "                                    away_club_name aggregate  \\\n",
       "0                                       Aalborg BK  01:01:00   \n",
       "1                             Randers Fodbold Club  06:01:00   \n",
       "2                                  Odense Boldklub  00:01:00   \n",
       "3                                Borussia Dortmund  01:02:00   \n",
       "4                             KSC Lokeren (- 2020)  03:02:00   \n",
       "...                                            ...       ...   \n",
       "3804                                    SK Beveren  03:02:00   \n",
       "3805  Koninklijke Sint-Truidense Voetbalvereniging  02:00:00   \n",
       "3806                        Futebol Clube do Porto  00:05:00   \n",
       "3807      Stichting Betaald Voetbal Vitesse Arnhem  02:01:00   \n",
       "3808            Verein Fur leibesubungen Wolfsburg  01:01:00   \n",
       "\n",
       "       competition_type  \n",
       "0       domestic_league  \n",
       "1       domestic_league  \n",
       "2       domestic_league  \n",
       "3     international_cup  \n",
       "4                 other  \n",
       "...                 ...  \n",
       "3804    domestic_league  \n",
       "3805    domestic_league  \n",
       "3806    domestic_league  \n",
       "3807    domestic_league  \n",
       "3808    domestic_league  \n",
       "\n",
       "[3809 rows x 50 columns]"
      ]
     },
     "execution_count": 89,
     "metadata": {},
     "output_type": "execute_result"
    }
   ],
   "source": [
    "data_final"
   ]
  },
  {
   "cell_type": "code",
   "execution_count": null,
   "id": "230e7cca",
   "metadata": {},
   "outputs": [],
   "source": []
  },
  {
   "cell_type": "markdown",
   "id": "d17891a5",
   "metadata": {},
   "source": [
    "# installing mysql connector"
   ]
  },
  {
   "cell_type": "markdown",
   "id": "a4ed8756",
   "metadata": {},
   "source": [
    "pip install mysql-connector-python"
   ]
  },
  {
   "cell_type": "code",
   "execution_count": 90,
   "id": "3c93c576",
   "metadata": {},
   "outputs": [
    {
     "name": "stdout",
     "output_type": "stream",
     "text": [
      "Requirement already satisfied: mysql-connector-python in c:\\anaconda\\lib\\site-packages (8.3.0)\n",
      "Note: you may need to restart the kernel to use updated packages.\n"
     ]
    }
   ],
   "source": [
    "pip install mysql-connector-python"
   ]
  },
  {
   "cell_type": "markdown",
   "id": "3f500443",
   "metadata": {},
   "source": [
    "# import the mysql connector"
   ]
  },
  {
   "cell_type": "code",
   "execution_count": 112,
   "id": "5dada91d",
   "metadata": {},
   "outputs": [],
   "source": [
    "import mysql.connector as sql"
   ]
  },
  {
   "cell_type": "code",
   "execution_count": 113,
   "id": "bd74ccde",
   "metadata": {},
   "outputs": [],
   "source": [
    "import pymysql\n",
    "import pandas as pd"
   ]
  },
  {
   "cell_type": "code",
   "execution_count": 114,
   "id": "8c2dda62",
   "metadata": {},
   "outputs": [],
   "source": [
    "db = sql.connect(host='localhost',user='root',password='Bharath196')"
   ]
  },
  {
   "cell_type": "code",
   "execution_count": 115,
   "id": "92ede803",
   "metadata": {},
   "outputs": [],
   "source": [
    "mycursor=db.cursor()"
   ]
  },
  {
   "cell_type": "code",
   "execution_count": 116,
   "id": "d6e3e01a",
   "metadata": {},
   "outputs": [
    {
     "ename": "DatabaseError",
     "evalue": "1007 (HY000): Can't create database 'football_dataset'; database exists",
     "output_type": "error",
     "traceback": [
      "\u001b[1;31m---------------------------------------------------------------------------\u001b[0m",
      "\u001b[1;31mMySQLInterfaceError\u001b[0m                       Traceback (most recent call last)",
      "File \u001b[1;32mC:\\anaconda\\Lib\\site-packages\\mysql\\connector\\connection_cext.py:661\u001b[0m, in \u001b[0;36mCMySQLConnection.cmd_query\u001b[1;34m(self, query, raw, buffered, raw_as_string)\u001b[0m\n\u001b[0;32m    660\u001b[0m         query \u001b[38;5;241m=\u001b[39m query\u001b[38;5;241m.\u001b[39mencode(\u001b[38;5;124m\"\u001b[39m\u001b[38;5;124mutf-8\u001b[39m\u001b[38;5;124m\"\u001b[39m)\n\u001b[1;32m--> 661\u001b[0m     \u001b[38;5;28mself\u001b[39m\u001b[38;5;241m.\u001b[39m_cmysql\u001b[38;5;241m.\u001b[39mquery(\n\u001b[0;32m    662\u001b[0m         query,\n\u001b[0;32m    663\u001b[0m         raw\u001b[38;5;241m=\u001b[39mraw,\n\u001b[0;32m    664\u001b[0m         buffered\u001b[38;5;241m=\u001b[39mbuffered,\n\u001b[0;32m    665\u001b[0m         raw_as_string\u001b[38;5;241m=\u001b[39mraw_as_string,\n\u001b[0;32m    666\u001b[0m         query_attrs\u001b[38;5;241m=\u001b[39m\u001b[38;5;28mself\u001b[39m\u001b[38;5;241m.\u001b[39mquery_attrs,\n\u001b[0;32m    667\u001b[0m     )\n\u001b[0;32m    668\u001b[0m \u001b[38;5;28;01mexcept\u001b[39;00m MySQLInterfaceError \u001b[38;5;28;01mas\u001b[39;00m err:\n",
      "\u001b[1;31mMySQLInterfaceError\u001b[0m: Can't create database 'football_dataset'; database exists",
      "\nThe above exception was the direct cause of the following exception:\n",
      "\u001b[1;31mDatabaseError\u001b[0m                             Traceback (most recent call last)",
      "Cell \u001b[1;32mIn[116], line 1\u001b[0m\n\u001b[1;32m----> 1\u001b[0m mycursor\u001b[38;5;241m.\u001b[39mexecute(\u001b[38;5;124m\"\u001b[39m\u001b[38;5;124mcreate database Football_dataset\u001b[39m\u001b[38;5;124m\"\u001b[39m)\n",
      "File \u001b[1;32mC:\\anaconda\\Lib\\site-packages\\mysql\\connector\\cursor_cext.py:374\u001b[0m, in \u001b[0;36mCMySQLCursor.execute\u001b[1;34m(self, operation, params, multi)\u001b[0m\n\u001b[0;32m    369\u001b[0m             \u001b[38;5;28;01mraise\u001b[39;00m ProgrammingError(\n\u001b[0;32m    370\u001b[0m                 \u001b[38;5;124m\"\u001b[39m\u001b[38;5;124mNot all parameters were used in the SQL statement\u001b[39m\u001b[38;5;124m\"\u001b[39m\n\u001b[0;32m    371\u001b[0m             )\n\u001b[0;32m    373\u001b[0m \u001b[38;5;28;01mtry\u001b[39;00m:\n\u001b[1;32m--> 374\u001b[0m     result \u001b[38;5;241m=\u001b[39m \u001b[38;5;28mself\u001b[39m\u001b[38;5;241m.\u001b[39m_cnx\u001b[38;5;241m.\u001b[39mcmd_query(\n\u001b[0;32m    375\u001b[0m         stmt,\n\u001b[0;32m    376\u001b[0m         raw\u001b[38;5;241m=\u001b[39m\u001b[38;5;28mself\u001b[39m\u001b[38;5;241m.\u001b[39m_raw,\n\u001b[0;32m    377\u001b[0m         buffered\u001b[38;5;241m=\u001b[39m\u001b[38;5;28mself\u001b[39m\u001b[38;5;241m.\u001b[39m_buffered,\n\u001b[0;32m    378\u001b[0m         raw_as_string\u001b[38;5;241m=\u001b[39m\u001b[38;5;28mself\u001b[39m\u001b[38;5;241m.\u001b[39m_raw_as_string,\n\u001b[0;32m    379\u001b[0m     )\n\u001b[0;32m    380\u001b[0m \u001b[38;5;28;01mexcept\u001b[39;00m MySQLInterfaceError \u001b[38;5;28;01mas\u001b[39;00m err:\n\u001b[0;32m    381\u001b[0m     \u001b[38;5;28;01mraise\u001b[39;00m get_mysql_exception(\n\u001b[0;32m    382\u001b[0m         msg\u001b[38;5;241m=\u001b[39merr\u001b[38;5;241m.\u001b[39mmsg, errno\u001b[38;5;241m=\u001b[39merr\u001b[38;5;241m.\u001b[39merrno, sqlstate\u001b[38;5;241m=\u001b[39merr\u001b[38;5;241m.\u001b[39msqlstate\n\u001b[0;32m    383\u001b[0m     ) \u001b[38;5;28;01mfrom\u001b[39;00m \u001b[38;5;21;01merr\u001b[39;00m\n",
      "File \u001b[1;32mC:\\anaconda\\Lib\\site-packages\\mysql\\connector\\opentelemetry\\context_propagation.py:74\u001b[0m, in \u001b[0;36mwith_context_propagation.<locals>.wrapper\u001b[1;34m(cnx, *args, **kwargs)\u001b[0m\n\u001b[0;32m     72\u001b[0m \u001b[38;5;250m\u001b[39m\u001b[38;5;124;03m\"\"\"Context propagation decorator.\"\"\"\u001b[39;00m\n\u001b[0;32m     73\u001b[0m \u001b[38;5;28;01mif\u001b[39;00m \u001b[38;5;129;01mnot\u001b[39;00m OTEL_ENABLED \u001b[38;5;129;01mor\u001b[39;00m \u001b[38;5;129;01mnot\u001b[39;00m cnx\u001b[38;5;241m.\u001b[39motel_context_propagation:\n\u001b[1;32m---> 74\u001b[0m     \u001b[38;5;28;01mreturn\u001b[39;00m method(cnx, \u001b[38;5;241m*\u001b[39margs, \u001b[38;5;241m*\u001b[39m\u001b[38;5;241m*\u001b[39mkwargs)\n\u001b[0;32m     76\u001b[0m current_span \u001b[38;5;241m=\u001b[39m trace\u001b[38;5;241m.\u001b[39mget_current_span()\n\u001b[0;32m     77\u001b[0m tp_header \u001b[38;5;241m=\u001b[39m \u001b[38;5;28;01mNone\u001b[39;00m\n",
      "File \u001b[1;32mC:\\anaconda\\Lib\\site-packages\\mysql\\connector\\connection_cext.py:669\u001b[0m, in \u001b[0;36mCMySQLConnection.cmd_query\u001b[1;34m(self, query, raw, buffered, raw_as_string)\u001b[0m\n\u001b[0;32m    661\u001b[0m     \u001b[38;5;28mself\u001b[39m\u001b[38;5;241m.\u001b[39m_cmysql\u001b[38;5;241m.\u001b[39mquery(\n\u001b[0;32m    662\u001b[0m         query,\n\u001b[0;32m    663\u001b[0m         raw\u001b[38;5;241m=\u001b[39mraw,\n\u001b[1;32m   (...)\u001b[0m\n\u001b[0;32m    666\u001b[0m         query_attrs\u001b[38;5;241m=\u001b[39m\u001b[38;5;28mself\u001b[39m\u001b[38;5;241m.\u001b[39mquery_attrs,\n\u001b[0;32m    667\u001b[0m     )\n\u001b[0;32m    668\u001b[0m \u001b[38;5;28;01mexcept\u001b[39;00m MySQLInterfaceError \u001b[38;5;28;01mas\u001b[39;00m err:\n\u001b[1;32m--> 669\u001b[0m     \u001b[38;5;28;01mraise\u001b[39;00m get_mysql_exception(\n\u001b[0;32m    670\u001b[0m         err\u001b[38;5;241m.\u001b[39merrno, msg\u001b[38;5;241m=\u001b[39merr\u001b[38;5;241m.\u001b[39mmsg, sqlstate\u001b[38;5;241m=\u001b[39merr\u001b[38;5;241m.\u001b[39msqlstate\n\u001b[0;32m    671\u001b[0m     ) \u001b[38;5;28;01mfrom\u001b[39;00m \u001b[38;5;21;01merr\u001b[39;00m\n\u001b[0;32m    672\u001b[0m \u001b[38;5;28;01mexcept\u001b[39;00m \u001b[38;5;167;01mAttributeError\u001b[39;00m \u001b[38;5;28;01mas\u001b[39;00m err:\n\u001b[0;32m    673\u001b[0m     addr \u001b[38;5;241m=\u001b[39m (\n\u001b[0;32m    674\u001b[0m         \u001b[38;5;28mself\u001b[39m\u001b[38;5;241m.\u001b[39m_unix_socket \u001b[38;5;28;01mif\u001b[39;00m \u001b[38;5;28mself\u001b[39m\u001b[38;5;241m.\u001b[39m_unix_socket \u001b[38;5;28;01melse\u001b[39;00m \u001b[38;5;124mf\u001b[39m\u001b[38;5;124m\"\u001b[39m\u001b[38;5;132;01m{\u001b[39;00m\u001b[38;5;28mself\u001b[39m\u001b[38;5;241m.\u001b[39m_host\u001b[38;5;132;01m}\u001b[39;00m\u001b[38;5;124m:\u001b[39m\u001b[38;5;132;01m{\u001b[39;00m\u001b[38;5;28mself\u001b[39m\u001b[38;5;241m.\u001b[39m_port\u001b[38;5;132;01m}\u001b[39;00m\u001b[38;5;124m\"\u001b[39m\n\u001b[0;32m    675\u001b[0m     )\n",
      "\u001b[1;31mDatabaseError\u001b[0m: 1007 (HY000): Can't create database 'football_dataset'; database exists"
     ]
    }
   ],
   "source": [
    "mycursor.execute(\"create database Football_dataset\")"
   ]
  },
  {
   "cell_type": "code",
   "execution_count": 117,
   "id": "c0056368",
   "metadata": {},
   "outputs": [],
   "source": [
    "from sqlalchemy import create_engine"
   ]
  },
  {
   "cell_type": "code",
   "execution_count": 118,
   "id": "867e1f26",
   "metadata": {},
   "outputs": [],
   "source": [
    "engine = create_engine(\"mysql+pymysql://{user}:{pw}@{host}/{db}\"\n",
    "                       .format(host='localhost', db='Football_dataset', user='root', pw='Bharath196'))\n",
    "\n",
    "#create_engine connect the Mysql database "
   ]
  },
  {
   "cell_type": "code",
   "execution_count": 119,
   "id": "10e0e85b",
   "metadata": {},
   "outputs": [
    {
     "data": {
      "text/plain": [
       "3568"
      ]
     },
     "execution_count": 119,
     "metadata": {},
     "output_type": "execute_result"
    }
   ],
   "source": [
    "df1.to_sql('data_final',engine,index=False)"
   ]
  },
  {
   "cell_type": "code",
   "execution_count": null,
   "id": "80bf87be",
   "metadata": {},
   "outputs": [],
   "source": []
  },
  {
   "cell_type": "code",
   "execution_count": null,
   "id": "f8278f10",
   "metadata": {},
   "outputs": [],
   "source": []
  },
  {
   "cell_type": "code",
   "execution_count": null,
   "id": "bb6eb7db",
   "metadata": {},
   "outputs": [],
   "source": []
  },
  {
   "cell_type": "code",
   "execution_count": null,
   "id": "7e008901",
   "metadata": {},
   "outputs": [],
   "source": []
  }
 ],
 "metadata": {
  "kernelspec": {
   "display_name": "Python 3 (ipykernel)",
   "language": "python",
   "name": "python3"
  },
  "language_info": {
   "codemirror_mode": {
    "name": "ipython",
    "version": 3
   },
   "file_extension": ".py",
   "mimetype": "text/x-python",
   "name": "python",
   "nbconvert_exporter": "python",
   "pygments_lexer": "ipython3",
   "version": "3.11.5"
  }
 },
 "nbformat": 4,
 "nbformat_minor": 5
}
